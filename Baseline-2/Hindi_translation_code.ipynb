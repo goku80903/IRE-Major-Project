{
 "cells": [
  {
   "cell_type": "code",
   "execution_count": 1,
   "metadata": {
    "id": "ZWSZTaY6hZBD"
   },
   "outputs": [],
   "source": [
    "import os\n",
    "from xml.etree import ElementTree as ET\n",
    "from collections import Counter\n",
    "from functools import reduce\n",
    "import operator\n",
    "from torch.utils.data import IterableDataset,DataLoader\n",
    "from tqdm import tqdm\n",
    "import random\n",
    "import pandas as pd\n",
    "import glob\n",
    "import re\n",
    "import xml.etree.ElementTree as ET\n",
    "import pandas as pd\n",
    "import time\n",
    "\n",
    "#from google.colab import drive\n",
    "#drive.mount('/content/drive')"
   ]
  },
  {
   "cell_type": "code",
   "execution_count": 2,
   "metadata": {},
   "outputs": [
    {
     "name": "stdout",
     "output_type": "stream",
     "text": [
      "C:\\Users\\SURAJK7\\Desktop\\IIIT\\IRE\\major project\n"
     ]
    }
   ],
   "source": [
    "print(os.getcwd())\n",
    "import google_trans_new"
   ]
  },
  {
   "cell_type": "code",
   "execution_count": 109,
   "metadata": {},
   "outputs": [
    {
     "name": "stdout",
     "output_type": "stream",
     "text": [
      "C:\\Users\\SURAJK7\\Desktop\\IIIT\\IRE\\major project\n"
     ]
    }
   ],
   "source": [
    "print(os.getcwd())\n",
    "files = glob.glob(os.getcwd() + \"/webnlg-dataset-master-release_v3.0-en/release_v3.0/en/dev/**/*.xml\", recursive=True)\n",
    "triple_re=re.compile('(\\d)triples')\n",
    "data_dct={}\n",
    "for file in files:\n",
    "    tree = ET.parse(file)\n",
    "    root = tree.getroot()\n",
    "    triples_num=int(triple_re.findall(file)[0])\n",
    "    for sub_root in root:\n",
    "        for ss_root in sub_root:\n",
    "            strutured_master=[]\n",
    "            unstructured=[]\n",
    "            for entry in ss_root:\n",
    "                unstructured.append(entry.text)\n",
    "                strutured=[triple.text for triple in entry]\n",
    "                strutured_master.extend(strutured)\n",
    "            unstructured=[i for i in unstructured if i.replace('\\n','').strip()!='' ]\n",
    "            strutured_master=strutured_master[-triples_num:]\n",
    "            strutured_master_str=(' && ').join(strutured_master)\n",
    "            data_dct[strutured_master_str]=unstructured\n",
    "mdata_dct={\"prefix\":[], \"input_text\":[], \"target_text\":[]}\n",
    "for st,unst in data_dct.items():\n",
    "    for i in unst:\n",
    "        mdata_dct['prefix'].append('webNLG')\n",
    "        mdata_dct['input_text'].append(st)\n",
    "        mdata_dct['target_text'].append(i)\n",
    "\n",
    "\n",
    "df=pd.DataFrame(mdata_dct)\n",
    "df.to_csv('webNLG2020_dev.csv')"
   ]
  },
  {
   "cell_type": "code",
   "execution_count": 3,
   "metadata": {},
   "outputs": [],
   "source": [
    "dev_df=pd.read_csv(\"webNLG2020_dev.csv\", index_col=[0])\n",
    "dev_df=dev_df.iloc[  :,:]\n",
    "dev_df=dev_df.sample(frac = 1)"
   ]
  },
  {
   "cell_type": "code",
   "execution_count": 4,
   "metadata": {},
   "outputs": [
    {
     "name": "stdout",
     "output_type": "stream",
     "text": [
      "मैं ठीक हूं \n"
     ]
    }
   ],
   "source": [
    "from google_trans_new import google_translator\n",
    "\n",
    "translator = google_translator()\n",
    "translate_text = translator.translate('I am fine',lang_tgt='hi') \n",
    "\n",
    "print(translate_text)"
   ]
  },
  {
   "cell_type": "code",
   "execution_count": 5,
   "metadata": {},
   "outputs": [],
   "source": [
    "dev_df['target_text_hindi'] = ' '"
   ]
  },
  {
   "cell_type": "code",
   "execution_count": null,
   "metadata": {},
   "outputs": [],
   "source": [
    "dev_df['target_text_hindi'].iloc[0:4462] = dev_df['target_text'].iloc[0:4462].apply(translator.translate, lang_tgt='hi')"
   ]
  },
  {
   "cell_type": "code",
   "execution_count": null,
   "metadata": {},
   "outputs": [],
   "source": [
    "train_df.to_csv('webNLG2020_train_hindi.csv')"
   ]
  }
 ],
 "metadata": {
  "accelerator": "GPU",
  "colab": {
   "name": "Untitled2.ipynb",
   "provenance": []
  },
  "kernelspec": {
   "display_name": "Python 3",
   "language": "python",
   "name": "python3"
  },
  "language_info": {
   "codemirror_mode": {
    "name": "ipython",
    "version": 3
   },
   "file_extension": ".py",
   "mimetype": "text/x-python",
   "name": "python",
   "nbconvert_exporter": "python",
   "pygments_lexer": "ipython3",
   "version": "3.8.5"
  }
 },
 "nbformat": 4,
 "nbformat_minor": 1
}
