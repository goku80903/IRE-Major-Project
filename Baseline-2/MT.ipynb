{
  "nbformat": 4,
  "nbformat_minor": 0,
  "metadata": {
    "colab": {
      "name": "googletrans.ipynb",
      "provenance": []
    },
    "kernelspec": {
      "name": "python3",
      "display_name": "Python 3"
    },
    "language_info": {
      "name": "python"
    }
  },
  "cells": [
    {
      "cell_type": "code",
      "metadata": {
        "colab": {
          "base_uri": "https://localhost:8080/"
        },
        "id": "DLPiAVq-CoSx",
        "outputId": "aa13db37-270f-4fdb-ec9f-44573f7d97ac"
      },
      "source": [
        "!pip install googletrans==4.0.0rc1"
      ],
      "execution_count": null,
      "outputs": [
        {
          "output_type": "stream",
          "name": "stdout",
          "text": [
            "Collecting googletrans==4.0.0rc1\n",
            "  Downloading googletrans-4.0.0rc1.tar.gz (20 kB)\n",
            "Collecting httpx==0.13.3\n",
            "  Downloading httpx-0.13.3-py3-none-any.whl (55 kB)\n",
            "\u001b[K     |████████████████████████████████| 55 kB 2.1 MB/s \n",
            "\u001b[?25hCollecting hstspreload\n",
            "  Downloading hstspreload-2021.10.1-py3-none-any.whl (1.2 MB)\n",
            "\u001b[K     |████████████████████████████████| 1.2 MB 10.0 MB/s \n",
            "\u001b[?25hRequirement already satisfied: chardet==3.* in /usr/local/lib/python3.7/dist-packages (from httpx==0.13.3->googletrans==4.0.0rc1) (3.0.4)\n",
            "Collecting httpcore==0.9.*\n",
            "  Downloading httpcore-0.9.1-py3-none-any.whl (42 kB)\n",
            "\u001b[K     |████████████████████████████████| 42 kB 1.1 MB/s \n",
            "\u001b[?25hCollecting rfc3986<2,>=1.3\n",
            "  Downloading rfc3986-1.5.0-py2.py3-none-any.whl (31 kB)\n",
            "Requirement already satisfied: certifi in /usr/local/lib/python3.7/dist-packages (from httpx==0.13.3->googletrans==4.0.0rc1) (2021.5.30)\n",
            "Requirement already satisfied: idna==2.* in /usr/local/lib/python3.7/dist-packages (from httpx==0.13.3->googletrans==4.0.0rc1) (2.10)\n",
            "Collecting sniffio\n",
            "  Downloading sniffio-1.2.0-py3-none-any.whl (10 kB)\n",
            "Collecting h2==3.*\n",
            "  Downloading h2-3.2.0-py2.py3-none-any.whl (65 kB)\n",
            "\u001b[K     |████████████████████████████████| 65 kB 3.4 MB/s \n",
            "\u001b[?25hCollecting h11<0.10,>=0.8\n",
            "  Downloading h11-0.9.0-py2.py3-none-any.whl (53 kB)\n",
            "\u001b[K     |████████████████████████████████| 53 kB 2.0 MB/s \n",
            "\u001b[?25hCollecting hyperframe<6,>=5.2.0\n",
            "  Downloading hyperframe-5.2.0-py2.py3-none-any.whl (12 kB)\n",
            "Collecting hpack<4,>=3.0\n",
            "  Downloading hpack-3.0.0-py2.py3-none-any.whl (38 kB)\n",
            "Building wheels for collected packages: googletrans\n",
            "  Building wheel for googletrans (setup.py) ... \u001b[?25l\u001b[?25hdone\n",
            "  Created wheel for googletrans: filename=googletrans-4.0.0rc1-py3-none-any.whl size=17415 sha256=73a4ba83058ec3ed18ae6dcbc21eef6c5e405d41d6996efde1b7ac49260aea41\n",
            "  Stored in directory: /root/.cache/pip/wheels/43/34/00/4fe71786ea6d12314b29037620c36d857e5d104ac2748bf82a\n",
            "Successfully built googletrans\n",
            "Installing collected packages: hyperframe, hpack, sniffio, h2, h11, rfc3986, httpcore, hstspreload, httpx, googletrans\n",
            "Successfully installed googletrans-4.0.0rc1 h11-0.9.0 h2-3.2.0 hpack-3.0.0 hstspreload-2021.10.1 httpcore-0.9.1 httpx-0.13.3 hyperframe-5.2.0 rfc3986-1.5.0 sniffio-1.2.0\n"
          ]
        }
      ]
    },
    {
      "cell_type": "code",
      "metadata": {
        "colab": {
          "base_uri": "https://localhost:8080/"
        },
        "id": "_RJc_5tyCtr1",
        "outputId": "529d93f8-e582-4940-cead-6857035d4d5c"
      },
      "source": [
        "import googletrans\n",
        "\n",
        "print(googletrans.LANGUAGES)"
      ],
      "execution_count": null,
      "outputs": [
        {
          "output_type": "stream",
          "name": "stdout",
          "text": [
            "{'af': 'afrikaans', 'sq': 'albanian', 'am': 'amharic', 'ar': 'arabic', 'hy': 'armenian', 'az': 'azerbaijani', 'eu': 'basque', 'be': 'belarusian', 'bn': 'bengali', 'bs': 'bosnian', 'bg': 'bulgarian', 'ca': 'catalan', 'ceb': 'cebuano', 'ny': 'chichewa', 'zh-cn': 'chinese (simplified)', 'zh-tw': 'chinese (traditional)', 'co': 'corsican', 'hr': 'croatian', 'cs': 'czech', 'da': 'danish', 'nl': 'dutch', 'en': 'english', 'eo': 'esperanto', 'et': 'estonian', 'tl': 'filipino', 'fi': 'finnish', 'fr': 'french', 'fy': 'frisian', 'gl': 'galician', 'ka': 'georgian', 'de': 'german', 'el': 'greek', 'gu': 'gujarati', 'ht': 'haitian creole', 'ha': 'hausa', 'haw': 'hawaiian', 'iw': 'hebrew', 'he': 'hebrew', 'hi': 'hindi', 'hmn': 'hmong', 'hu': 'hungarian', 'is': 'icelandic', 'ig': 'igbo', 'id': 'indonesian', 'ga': 'irish', 'it': 'italian', 'ja': 'japanese', 'jw': 'javanese', 'kn': 'kannada', 'kk': 'kazakh', 'km': 'khmer', 'ko': 'korean', 'ku': 'kurdish (kurmanji)', 'ky': 'kyrgyz', 'lo': 'lao', 'la': 'latin', 'lv': 'latvian', 'lt': 'lithuanian', 'lb': 'luxembourgish', 'mk': 'macedonian', 'mg': 'malagasy', 'ms': 'malay', 'ml': 'malayalam', 'mt': 'maltese', 'mi': 'maori', 'mr': 'marathi', 'mn': 'mongolian', 'my': 'myanmar (burmese)', 'ne': 'nepali', 'no': 'norwegian', 'or': 'odia', 'ps': 'pashto', 'fa': 'persian', 'pl': 'polish', 'pt': 'portuguese', 'pa': 'punjabi', 'ro': 'romanian', 'ru': 'russian', 'sm': 'samoan', 'gd': 'scots gaelic', 'sr': 'serbian', 'st': 'sesotho', 'sn': 'shona', 'sd': 'sindhi', 'si': 'sinhala', 'sk': 'slovak', 'sl': 'slovenian', 'so': 'somali', 'es': 'spanish', 'su': 'sundanese', 'sw': 'swahili', 'sv': 'swedish', 'tg': 'tajik', 'ta': 'tamil', 'te': 'telugu', 'th': 'thai', 'tr': 'turkish', 'uk': 'ukrainian', 'ur': 'urdu', 'ug': 'uyghur', 'uz': 'uzbek', 'vi': 'vietnamese', 'cy': 'welsh', 'xh': 'xhosa', 'yi': 'yiddish', 'yo': 'yoruba', 'zu': 'zulu'}\n"
          ]
        }
      ]
    },
    {
      "cell_type": "code",
      "metadata": {
        "id": "PlyTOUA1C4kG"
      },
      "source": [
        "from googletrans import Translator\n",
        "import linecache as lc\n",
        "translator = Translator()\n",
        "translator.raise_Exception = True"
      ],
      "execution_count": null,
      "outputs": []
    },
    {
      "cell_type": "code",
      "metadata": {
        "colab": {
          "base_uri": "https://localhost:8080/"
        },
        "id": "oBHD-Kr0EX-u",
        "outputId": "4a0cd1c1-c2d9-4307-d8f0-632546a47e22"
      },
      "source": [
        "import csv\n",
        "import tqdm, time\n",
        "from ast import literal_eval\n",
        "f = open(\"/content/final.csv\", 'r')\n",
        "csvreader = csv.reader(f)\n",
        "fields = []\n",
        "rows = []\n",
        "finrows_2 = []\n",
        "fields = next(csvreader)\n",
        "for row in csvreader:\n",
        "  rows.append(row)\n",
        "for row in tqdm.tqdm(rows[1572:]):\n",
        "  time.sleep(0.1)\n",
        "  for i in literal_eval(row[2]):\n",
        "    res = translator.translate(i, src='en', dest='hi').text\n",
        "    row.append(res)\n",
        "  finrows_2.append(row)\n",
        "print(finrows[1])"
      ],
      "execution_count": null,
      "outputs": [
        {
          "output_type": "stream",
          "name": "stdout",
          "text": [
            "Total no. of rows: 1665\n",
            "Field names are:inps, y_pred_text, y_true_text, y_pred, y_true, y_true_trans, y_pred_trans\n",
            "\n",
            "First 5 rows are:\n",
            "\n"
          ]
        },
        {
          "output_type": "stream",
          "name": "stderr",
          "text": [
            "100%|██████████| 92/92 [03:28<00:00,  2.27s/it]"
          ]
        },
        {
          "output_type": "stream",
          "name": "stdout",
          "text": [
            "['T <S> Bakewell_pudding <R> region <O> Derbyshire_Dales T <S> Bakewell_pudding <R> dishVariation <O> Bakewell_tart T <S> Derbyshire_Dales <R> isPartOf <O> Derbyshire T <S> Bakewell_tart <R> ingredient <O> Shortcrust_pastry', 'Bakewell tart is a variation of Bakewell tart which is a variation of Bakewell pudding which is from the Derbyshire Dales region, Derbyshire. It has short crust as an ingredient and is a variation of Bakewell pudding.', \"['From the Derbyshire Dales region (in Derbyshire), is Bakewell pudding. A variation of which, is Bakewell tart, its main ingredient is shortcrust pastry.', 'Bakewell tart is a variation of Bakewell pudding which uses shortcrust pastry and comes from the Derbyshire Dales in Derbyshire.', 'Bakewell tart is a variant of bakewell pudding from the Derbyshire Dales in Derbyshire. The main ingredient is shortcrust pastry.']\", \"[['▁Bake', 'well', '▁tart', '▁is', '▁', 'a', '▁variation', '▁of', '▁Bake', 'well', '▁tart', '▁which', '▁is', '▁', 'a', '▁variation', '▁of', '▁Bake', 'well', '▁pudding', '▁which', '▁is', '▁from', '▁the', '▁Derby', 'shire', '▁Da', 'les', '▁region', ',', '▁Derby', 'shire', '.', '▁It', '▁has', '▁short', '▁crust', '▁as', '▁an', '▁ingredient', '▁and', '▁is', '▁', 'a', '▁variation', '▁of', '▁Bake', 'well', '▁pudding', '.']]\", \"[['▁From', '▁the', '▁Derby', 'shire', '▁Da', 'les', '▁region', '▁(', 'in', '▁Derby', 'shire', '),', '▁is', '▁Bake', 'well', '▁pudding', '.', '▁A', '▁variation', '▁of', '▁which', ',', '▁is', '▁Bake', 'well', '▁tart', ',', '▁its', '▁main', '▁ingredient', '▁is', '▁short', 'c', 'rust', '▁pastry', '.'], ['▁Bake', 'well', '▁tart', '▁is', '▁', 'a', '▁variation', '▁of', '▁Bake', 'well', '▁pudding', '▁which', '▁uses', '▁short', 'c', 'rust', '▁pastry', '▁and', '▁comes', '▁from', '▁the', '▁Derby', 'shire', '▁Da', 'les', '▁in', '▁Derby', 'shire', '.'], ['▁Bake', 'well', '▁tart', '▁is', '▁', 'a', '▁variant', '▁of', '▁bake', 'well', '▁pudding', '▁from', '▁the', '▁Derby', 'shire', '▁Da', 'les', '▁in', '▁Derby', 'shire', '.', '▁The', '▁main', '▁ingredient', '▁is', '▁short', 'c', 'rust', '▁pastry', '.']]\", \"['डर्बीशायर डेलस क्षेत्र (डर्बीशायर में) से, बेकरवेल पुडिंग है।एक भिन्नता, बेकरवेल टार्ट, इसका मुख्य घटक शॉर्ट्रस्ट पेस्ट्री है। ',' बेकवेल टार्ट बेकवेल पुडिंग की एक भिन्नता है जो शॉर्ट्रस्ट पेस्ट्री का उपयोग करती है और डर्बीशायर में डर्बीशायर डेल्स से आती है। ',' बेकरवेल टार्ट बेकवेल का एक संस्करण हैडर्बीशायर में डर्बीशायर डेल्स से पुडिंग।मुख्य घटक शॉर्ट्रस्ट पेस्ट्री है। ']\", 'बेकरवेल टार्ट बेकवेल टार्ट की एक भिन्नता है जो बेकवेल पुडिंग की एक भिन्नता है जो डर्बीशायर डेल्स क्षेत्र, डर्बीशायर से है।इसमें एक घटक के रूप में छोटी परत है और यह बेकवेल पुडिंग की भिन्नता है।', 'डर्बीशायर डेल्स क्षेत्र (डर्बीशायर में) से, बेकरवेल पुडिंग है।जिसमें से एक भिन्नता, बेकरवेल टार्ट है, इसका मुख्य घटक शॉर्ट्रस्ट पेस्ट्री है।', 'बेकरवेल टार्ट बेकवेल पुडिंग की एक भिन्नता है जो शॉर्ट्रस्ट पेस्ट्री का उपयोग करती है और डर्बीशायर में डर्बीशायर डेल्स से आती है।', 'बेकवेल टार्ट डर्बीशायर में डर्बीशायर डेल्स से बेकवेल पुडिंग का एक रूप है।मुख्य घटक शॉर्ट्रस्ट पेस्ट्री है।']\n"
          ]
        },
        {
          "output_type": "stream",
          "name": "stderr",
          "text": [
            "\n"
          ]
        }
      ]
    },
    {
      "cell_type": "code",
      "metadata": {
        "id": "pfOXjetLEpLF",
        "colab": {
          "base_uri": "https://localhost:8080/"
        },
        "outputId": "914bc411-18bf-4a47-e70d-2923bb02927c"
      },
      "source": [
        "fw = open(\"/content/translated.csv\",'w',encoding='utf8')\n",
        "fields = ['inps', 'y_pred_text', 'y_true_text', 'y_pred', 'y_true', 'y_true_trans']\n",
        "csvwriter = csv.writer(fw)\n",
        "csvwriter.writerow(fields)\n",
        "print(\"len : \", len(trans_rows))\n",
        "for r in trans_rows:\n",
        "  csvwriter.writerow(r)"
      ],
      "execution_count": null,
      "outputs": [
        {
          "output_type": "stream",
          "name": "stdout",
          "text": [
            "len :  1667\n"
          ]
        }
      ]
    }
  ]
}